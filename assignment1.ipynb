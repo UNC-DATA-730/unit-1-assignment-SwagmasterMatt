{
 "cells": [
  {
   "cell_type": "markdown",
   "id": "e757ec2c-1a9a-49c7-928d-ae3e7eb9cefb",
   "metadata": {},
   "source": [
    "## Assignment #1 DATA 730"
   ]
  },
  {
   "cell_type": "markdown",
   "id": "12882e8c-a45f-45ee-b13b-368f0099c67e",
   "metadata": {},
   "source": [
    "This assignment tests that you have the course tech stack set up. If you do, you will be able to complete this notebook and turn-in your work by pushing to your assignment repository."
   ]
  },
  {
   "cell_type": "markdown",
   "id": "50e522b4-c275-4043-a37f-f2e49eb243bd",
   "metadata": {},
   "source": [
    "## Tech stack checklist"
   ]
  },
  {
   "cell_type": "markdown",
   "id": "db31feed-577b-4c7d-a409-6429cad04cfd",
   "metadata": {},
   "source": [
    "*Fill out the checklist below once you have completed each task:*\n",
    "\n",
    "- [X] GitHub account\n",
    "- [X] SageMaker Studio Lab account \n",
    "    I've been put on a waitlist for sagemaker.\n",
    "- [X] [GitHub personal access token](https://docs.github.com/en/authentication/keeping-our-account-and-data-secure/managing-your-personal-access-tokens#creating-a-personal-access-token-classic) (for authenticating with GitHub)"
   ]
  },
  {
   "cell_type": "markdown",
   "id": "02701813-a27b-45f9-a48b-9cfe343eac65",
   "metadata": {},
   "source": [
    "**Create the `data730` conda environment by right clicking the `environment.yml` file from the repo in SageMaker Studio Lab and selecting `Build conda Environment`.** "
   ]
  },
  {
   "cell_type": "code",
   "execution_count": 5,
   "id": "158255df-7b9f-4cf4-b644-632172a5152e",
   "metadata": {
    "vscode": {
     "languageId": "r"
    }
   },
   "outputs": [
    {
     "name": "stderr",
     "output_type": "stream",
     "text": [
      "Warning message in system(\"conda env list | grep data_730_unit_1\", intern = TRUE):\n",
      "\"running command 'conda env list | grep data_730_unit_1' had status 2\"\n"
     ]
    },
    {
     "data": {
      "text/html": [],
      "text/latex": [],
      "text/markdown": [],
      "text/plain": [
       "character(0)\n",
       "attr(,\"status\")\n",
       "[1] 2"
      ]
     },
     "metadata": {},
     "output_type": "display_data"
    }
   ],
   "source": [
    "# uncomment the following line and execute this cell to demonstrate you have created the data730 conda environment\n",
    "system('conda env list | grep data_730_unit_1', intern = TRUE)\n",
    "\n",
    "# I named it data_730_unit_1. The error is likely due to me running this in VS Code and some setting configuration instead of sagemaker\n",
    "# at the time of doing this I'm on a sagemaker waitlist."
   ]
  },
  {
   "cell_type": "code",
   "execution_count": 3,
   "id": "dc383334-802a-45bf-bc7e-150fdb963bd1",
   "metadata": {
    "vscode": {
     "languageId": "r"
    }
   },
   "outputs": [
    {
     "name": "stderr",
     "output_type": "stream",
     "text": [
      "-- \u001b[1mAttaching packages\u001b[22m -------------------------------------- tidymodels 1.1.0 --\n",
      "\n",
      "\u001b[32mv\u001b[39m \u001b[34mbroom       \u001b[39m 1.0.5     \u001b[32mv\u001b[39m \u001b[34mrecipes     \u001b[39m 1.0.6\n",
      "\u001b[32mv\u001b[39m \u001b[34mdials       \u001b[39m 1.2.0     \u001b[32mv\u001b[39m \u001b[34mrsample     \u001b[39m 1.1.1\n",
      "\u001b[32mv\u001b[39m \u001b[34mdplyr       \u001b[39m 1.1.4     \u001b[32mv\u001b[39m \u001b[34mtibble      \u001b[39m 3.2.1\n",
      "\u001b[32mv\u001b[39m \u001b[34mggplot2     \u001b[39m 3.4.2     \u001b[32mv\u001b[39m \u001b[34mtidyr       \u001b[39m 1.3.1\n",
      "\u001b[32mv\u001b[39m \u001b[34minfer       \u001b[39m 1.0.4     \u001b[32mv\u001b[39m \u001b[34mtune        \u001b[39m 1.1.1\n",
      "\u001b[32mv\u001b[39m \u001b[34mmodeldata   \u001b[39m 1.1.0     \u001b[32mv\u001b[39m \u001b[34mworkflows   \u001b[39m 1.1.3\n",
      "\u001b[32mv\u001b[39m \u001b[34mparsnip     \u001b[39m 1.1.0     \u001b[32mv\u001b[39m \u001b[34mworkflowsets\u001b[39m 1.0.1\n",
      "\u001b[32mv\u001b[39m \u001b[34mpurrr       \u001b[39m 1.0.2     \u001b[32mv\u001b[39m \u001b[34myardstick   \u001b[39m 1.3.1\n",
      "\n",
      "-- \u001b[1mConflicts\u001b[22m ----------------------------------------- tidymodels_conflicts() --\n",
      "\u001b[31mx\u001b[39m \u001b[34mpurrr\u001b[39m::\u001b[32mdiscard()\u001b[39m masks \u001b[34mscales\u001b[39m::discard()\n",
      "\u001b[31mx\u001b[39m \u001b[34mdplyr\u001b[39m::\u001b[32mfilter()\u001b[39m  masks \u001b[34mstats\u001b[39m::filter()\n",
      "\u001b[31mx\u001b[39m \u001b[34mdplyr\u001b[39m::\u001b[32mlag()\u001b[39m     masks \u001b[34mstats\u001b[39m::lag()\n",
      "\u001b[31mx\u001b[39m \u001b[34mrecipes\u001b[39m::\u001b[32mstep()\u001b[39m  masks \u001b[34mstats\u001b[39m::step()\n",
      "\u001b[34m*\u001b[39m Learn how to get started at \u001b[32mhttps://www.tidymodels.org/start/\u001b[39m\n",
      "\n"
     ]
    }
   ],
   "source": [
    "# uncomment the following line and execute this cell to demonstrate that you have installed the tidymodels package\n",
    "library('tidymodels')"
   ]
  },
  {
   "cell_type": "markdown",
   "id": "c6235a95-e0a6-4f7a-865a-b1d891796125",
   "metadata": {},
   "source": [
    "## Let's do some statistical inference!"
   ]
  },
  {
   "cell_type": "markdown",
   "id": "8bc5e612-a5b6-4a90-90fb-989fcce40874",
   "metadata": {},
   "source": [
    "Read [this article](https://www.theguardian.com/world/2002/jan/04/euro.eu2). \n",
    "\n",
    "Execute the code below to investigate whether the coin is fair..."
   ]
  },
  {
   "cell_type": "code",
   "execution_count": 4,
   "id": "52e16445-2854-49fe-8c5c-0dfd32e0a9ef",
   "metadata": {
    "vscode": {
     "languageId": "r"
    }
   },
   "outputs": [],
   "source": [
    "# These functions simulate tossing a fair coin n_tosses number of times for n_iterations number of iterations\n",
    "\n",
    "toss_fair_coin_n_times = function(n_tosses = 250) {\n",
    "    result = ifelse(runif(n = n_tosses) < 0.5, 'heads', 'tails')\n",
    "    result\n",
    "}\n",
    "\n",
    "repeat_the_experiment = function(n_iterations, n_tosses = 250) {\n",
    "    n_heads_each_iteration = c()\n",
    "    for (i in 1:n_iterations) {\n",
    "        n_heads = sum(toss_fair_coin_n_times(n_tosses) == 'heads')\n",
    "        n_heads_each_iteration = c(n_heads_each_iteration, n_heads)\n",
    "    } \n",
    "    n_heads_each_iteration\n",
    "}"
   ]
  },
  {
   "cell_type": "code",
   "execution_count": 5,
   "id": "f0333b3d-7cc6-4fa0-813e-f2d4c863be23",
   "metadata": {
    "vscode": {
     "languageId": "r"
    }
   },
   "outputs": [
    {
     "data": {
      "text/html": [
       "'With a fair coin we would expect a deviation as large or larger than what we observed 8.26% of times'"
      ],
      "text/latex": [
       "'With a fair coin we would expect a deviation as large or larger than what we observed 8.26\\% of times'"
      ],
      "text/markdown": [
       "'With a fair coin we would expect a deviation as large or larger than what we observed 8.26% of times'"
      ],
      "text/plain": [
       "[1] \"With a fair coin we would expect a deviation as large or larger than what we observed 8.26% of times\""
      ]
     },
     "metadata": {},
     "output_type": "display_data"
    }
   ],
   "source": [
    "# Let's do 10,000 experiments of 250 tosses and see how often our outcome deviates from what was actually observed (139 heads)\n",
    "\n",
    "n_iterations = 10000\n",
    "n_tosses = 250\n",
    "observed_deviation = 139 - 125 # 139 heads observed, expected value for a fair coin of 125\n",
    "\n",
    "n_heads_each_experiment = repeat_the_experiment(n_iterations, n_tosses)\n",
    "\n",
    "x = mean(abs(n_heads_each_experiment - 125) >= observed_deviation)\n",
    "paste0('With a fair coin we would expect a deviation as large or larger than what we observed ', x*100, '% of times')"
   ]
  },
  {
   "cell_type": "code",
   "execution_count": 7,
   "metadata": {
    "vscode": {
     "languageId": "r"
    }
   },
   "outputs": [
    {
     "data": {
      "image/png": "[encoded data removed]",
      "text/plain": [
       "Plot with title \"Distribution of the number of heads in 10,000 experiments of 250 tosses\""
      ]
     },
     "metadata": {
      "image/png": {
       "height": 420,
       "width": 420
      }
     },
     "output_type": "display_data"
    }
   ],
   "source": [
    "# print the plot of the distribution of the number of heads\n",
    "hist(n_heads_each_experiment, breaks = 20, main = 'Distribution of the number of heads in 10,000 experiments of 250 tosses', xlab = 'Number of heads', ylab = 'Frequency')\n"
   ]
  },
  {
   "cell_type": "markdown",
   "id": "ccf71651-a940-455b-8d30-14660b1aade4",
   "metadata": {},
   "source": [
    "**Do you think the coin was fair?** (Answer below in a markdown cell.)"
   ]
  },
  {
   "cell_type": "code",
   "execution_count": 8,
   "id": "c9bdfff1-23f3-41d7-84d7-231e25d4d163",
   "metadata": {
    "vscode": {
     "languageId": "r"
    }
   },
   "outputs": [],
   "source": [
    "# I think that the observed deviation is in line with the law of large numbers and a fair coin. \n",
    "# with an additional plot, you can see a very normal distribution over the iterations on a simulated event."
   ]
  }
 ],
 "metadata": {
  "kernelspec": {
   "display_name": "R",
   "language": "R",
   "name": "ir"
  },
  "language_info": {
   "codemirror_mode": "r",
   "file_extension": ".r",
   "mimetype": "text/x-r-source",
   "name": "R",
   "pygments_lexer": "r",
   "version": "4.1.3"
  }
 },
 "nbformat": 4,
 "nbformat_minor": 5
}
